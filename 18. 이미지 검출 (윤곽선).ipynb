{
 "cells": [
  {
   "cell_type": "markdown",
   "id": "ff7aef61",
   "metadata": {},
   "source": [
    "# 18. 이미지 검출 (윤곽선)"
   ]
  },
  {
   "cell_type": "markdown",
   "id": "15c977d6",
   "metadata": {},
   "source": [
    "## 윤곽선 (Contour) : 경계선을 연결한 선"
   ]
  },
  {
   "cell_type": "code",
   "execution_count": 7,
   "id": "d63f5b68",
   "metadata": {},
   "outputs": [],
   "source": [
    "import cv2\n",
    "img = cv2.imread('card.png')\n",
    "target_img = img.copy() # 사본 이미지\n",
    "\n",
    "gray = cv2.cvtColor(img, cv2.COLOR_BGR2GRAY)\n",
    "ret, otsu = cv2.threshold(gray, -1, 255, cv2.THRESH_BINARY | cv2.THRESH_OTSU)\n",
    "\n",
    "contours, hierarchy = cv2.findContours(otsu, cv2.RETR_LIST, cv2.CHAIN_APPROX_NONE)\n",
    "# 윤곽선 정보, 구조\n",
    "# 이미지, 윤곽선 찾는 모드 (mode), 윤곽선 찾을때 사용하는 근사치 방법 (method) : CHAIN_APPROX_NONE (모든 좌표 반환), CHAIN_APPROX_SIMPLE (꼭짓점 좌표 중복 제거 후 반환)\n",
    "\n",
    "COLOR = (0, 200, 0) # 녹색\n",
    "cv2.drawContours(target_img, contours, -1, COLOR, 2) # 윤곽선 그리기\n",
    "# 대상 이미지, 윤곽선 정보, 인덱스 (-1, 이면 전체), 색깔, 두께\n",
    "\n",
    "cv2.imshow('img', img)\n",
    "cv2.imshow('gray', gray)\n",
    "cv2.imshow('otsu', otsu)\n",
    "cv2.imshow('contours', target_img)\n",
    "\n",
    "cv2.waitKey(0)\n",
    "cv2.destroyAllWindows()"
   ]
  },
  {
   "cell_type": "markdown",
   "id": "3e9bb34d",
   "metadata": {},
   "source": [
    "### 윤곽선 찾기 모드\n",
    "1. cv2,RETR_EXTERNAL : 가장 외곽의 윤곽선만 찾음\n",
    "1. cv2,RETR_LIST : 모든 윤곽선 찾음 (계층 정보 없음)\n",
    "1. cv2,RETR_TREE : 모든 윤곽선 찾음 (계층 정보를 트리 구조로 생성)"
   ]
  },
  {
   "cell_type": "code",
   "execution_count": null,
   "id": "0f80bf12",
   "metadata": {
    "scrolled": true
   },
   "outputs": [],
   "source": [
    "import cv2\n",
    "img = cv2.imread('card.png')\n",
    "target_img = img.copy() # 사본 이미지\n",
    "\n",
    "gray = cv2.cvtColor(img, cv2.COLOR_BGR2GRAY)\n",
    "ret, otsu = cv2.threshold(gray, -1, 255, cv2.THRESH_BINARY | cv2.THRESH_OTSU)\n",
    "\n",
    "# contours, hierarchy = cv2.findContours(otsu, cv2.RETR_LIST, cv2.CHAIN_APPROX_NONE)\n",
    "# contours, hierarchy = cv2.findContours(otsu, cv2.RETR_TREE, cv2.CHAIN_APPROX_NONE)\n",
    "contours, hierarchy = cv2.findContours(otsu, cv2.RETR_EXTERNAL, cv2.CHAIN_APPROX_NONE)\n",
    "# print(hierarchy)\n",
    "# print(f'총 발견 갯수 : {len(contours)}')\n",
    "\n",
    "COLOR = (0, 200, 0) # 녹색\n",
    "cv2.drawContours(target_img, contours, -1, COLOR, 2)\n",
    "\n",
    "cv2.imshow('img', img)\n",
    "cv2.imshow('gray', gray)\n",
    "cv2.imshow('otsu', otsu)\n",
    "cv2.imshow('contours', target_img)\n",
    "\n",
    "cv2.waitKey(0)\n",
    "cv2.destroyAllWindows()"
   ]
  },
  {
   "cell_type": "markdown",
   "id": "24411d21",
   "metadata": {},
   "source": [
    "# 경계 사각형\n",
    "윤곽선의 경계면을 둘러싸는 사각형\n",
    ">boundingRect()"
   ]
  },
  {
   "cell_type": "code",
   "execution_count": 2,
   "id": "bad27019",
   "metadata": {},
   "outputs": [],
   "source": [
    "import cv2\n",
    "img = cv2.imread('card.png')\n",
    "target_img = img.copy() # 사본 이미지\n",
    "\n",
    "gray = cv2.cvtColor(img, cv2.COLOR_BGR2GRAY)\n",
    "ret, otsu = cv2.threshold(gray, -1, 255, cv2.THRESH_BINARY | cv2.THRESH_OTSU)\n",
    "contours, hierarchy = cv2.findContours(otsu, cv2.RETR_LIST, cv2.CHAIN_APPROX_NONE)\n",
    "\n",
    "COLOR = (0, 200, 0) # 녹색\n",
    "\n",
    "for cnt in contours :\n",
    "    x, y, width, height = cv2.boundingRect(cnt)\n",
    "    cv2.rectangle(target_img, (x, y), (x + width, y + height), COLOR, 2) # 사각형 그림\n",
    "\n",
    "cv2.imshow('img', img)\n",
    "cv2.imshow('gray', gray)\n",
    "cv2.imshow('otsu', otsu)\n",
    "cv2.imshow('contours', target_img)\n",
    "\n",
    "cv2.waitKey(0)\n",
    "cv2.destroyAllWindows()"
   ]
  },
  {
   "cell_type": "markdown",
   "id": "b80a2aea",
   "metadata": {},
   "source": [
    "# 면적\n",
    ">contourArea()"
   ]
  },
  {
   "cell_type": "code",
   "execution_count": 4,
   "id": "c1212777",
   "metadata": {},
   "outputs": [],
   "source": [
    "import cv2\n",
    "img = cv2.imread('card.png')\n",
    "target_img = img.copy() # 사본 이미지\n",
    "\n",
    "gray = cv2.cvtColor(img, cv2.COLOR_BGR2GRAY)\n",
    "ret, otsu = cv2.threshold(gray, -1, 255, cv2.THRESH_BINARY | cv2.THRESH_OTSU)\n",
    "contours, hierarchy = cv2.findContours(otsu, cv2.RETR_LIST, cv2.CHAIN_APPROX_NONE)\n",
    "\n",
    "COLOR = (0, 200, 0) # 녹색\n",
    "\n",
    "# 카드 한장 크기 : 가로 130 x 세로 205 = 26,650\n",
    "for cnt in contours :\n",
    "    if cv2.contourArea(cnt) > 25000:\n",
    "        x, y, width, height = cv2.boundingRect(cnt)\n",
    "        cv2.rectangle(target_img, (x, y), (x + width, y + height), COLOR, 2) # 사각형 그림\n",
    "    \n",
    "cv2.imshow('img', img)\n",
    "cv2.imshow('contours', target_img)\n",
    "\n",
    "cv2.waitKey(0)\n",
    "cv2.destroyAllWindows()"
   ]
  }
 ],
 "metadata": {
  "kernelspec": {
   "display_name": "Python 3 (ipykernel)",
   "language": "python",
   "name": "python3"
  },
  "language_info": {
   "codemirror_mode": {
    "name": "ipython",
    "version": 3
   },
   "file_extension": ".py",
   "mimetype": "text/x-python",
   "name": "python",
   "nbconvert_exporter": "python",
   "pygments_lexer": "ipython3",
   "version": "3.9.12"
  },
  "vscode": {
   "interpreter": {
    "hash": "c51f88733564c2a32908709854fec4d1b866686e5d2bd865783719c3221e115e"
   }
  }
 },
 "nbformat": 4,
 "nbformat_minor": 5
}
